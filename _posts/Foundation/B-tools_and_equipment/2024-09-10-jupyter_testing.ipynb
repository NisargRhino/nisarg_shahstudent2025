{
 "cells": [
  {
   "cell_type": "code",
   "execution_count": 3,
   "metadata": {},
   "outputs": [
    {
     "name": "stdout",
     "output_type": "stream",
     "text": [
      "Matched Emoji: 🤷\n"
     ]
    }
   ],
   "source": [
    "\n",
    "emoji_dict = {\n",
    "    \"😊\": [\"happy\", \"smile\", \"joy\", \"content\", \"pleased\"],\n",
    "    \"😢\": [\"sad\", \"cry\", \"sorrow\", \"unhappy\", \"tears\"],\n",
    "    \"❤️\": [\"love\", \"heart\", \"affection\", \"romance\"],\n",
    "    \"🔥\": [\"fire\", \"hot\", \"burn\", \"flame\"],\n",
    "    \"🚀\": [\"rocket\", \"space\", \"launch\", \"blast off\"],\n",
    "    \"🍕\": [\"pizza\", \"food\", \"cheese\", \"snack\"],\n",
    "    \"🎉\": [\"celebration\", \"party\", \"fun\", \"excited\"],\n",
    "    \"🏀\": [\"basketball\", \"sport\", \"game\", \"hoop\"],\n",
    "    \"💻\": [\"computer\", \"tech\", \"coding\", \"programming\"],\n",
    "    \"🌟\": [\"star\", \"shining\", \"success\", \"bright\"],\n",
    "}\n",
    "\n",
    "def find_emoji(description):\n",
    "    description = description.lower()  # Convert the description to lowercase\n",
    "\n",
    "\n",
    "    for emoji, keywords in emoji_dict.items():\n",
    "        # Check if any keyword is present in the description\n",
    "        if any(keyword in description for keyword in keywords):\n",
    "            return emoji  # Return the matched emoji\n",
    "\n",
    "    return \"🤷\"  # Shrug emoji for no match\n",
    "\n",
    "user_input = input(\"Enter a word or description to find an emoji: \")\n",
    "\n",
    "matched_emoji = find_emoji(user_input)\n",
    "print(f'Matched Emoji: {matched_emoji}')"
   ]
  }
 ],
 "metadata": {
  "kernelspec": {
   "display_name": "Python 3",
   "language": "python",
   "name": "python3"
  },
  "language_info": {
   "codemirror_mode": {
    "name": "ipython",
    "version": 3
   },
   "file_extension": ".py",
   "mimetype": "text/x-python",
   "name": "python",
   "nbconvert_exporter": "python",
   "pygments_lexer": "ipython3",
   "version": "3.12.5"
  }
 },
 "nbformat": 4,
 "nbformat_minor": 2
}
